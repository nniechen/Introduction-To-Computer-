{
  "nbformat": 4,
  "nbformat_minor": 0,
  "metadata": {
    "colab": {
      "provenance": [],
      "authorship_tag": "ABX9TyPzocL4YtKs76gALlnJQg6E",
      "include_colab_link": true
    },
    "kernelspec": {
      "name": "python3",
      "display_name": "Python 3"
    },
    "language_info": {
      "name": "python"
    }
  },
  "cells": [
    {
      "cell_type": "markdown",
      "metadata": {
        "id": "view-in-github",
        "colab_type": "text"
      },
      "source": [
        "<a href=\"https://colab.research.google.com/github/nniechen/Introduction-To-Computer-/blob/main/0529.ipynb\" target=\"_parent\"><img src=\"https://colab.research.google.com/assets/colab-badge.svg\" alt=\"Open In Colab\"/></a>"
      ]
    },
    {
      "cell_type": "code",
      "execution_count": 1,
      "metadata": {
        "colab": {
          "base_uri": "https://localhost:8080/"
        },
        "id": "ovYU0c4xNobT",
        "outputId": "d2c53a56-7320-4b34-fdb1-2268a8d2d5fb"
      },
      "outputs": [
        {
          "output_type": "stream",
          "name": "stdout",
          "text": [
            "5\n",
            "*\n",
            "**\n",
            "***\n",
            "****\n",
            "*****\n"
          ]
        }
      ],
      "source": [
        "n = int(input())\n",
        "for i in range(1,n+1):\n",
        "  print(i * '*')"
      ]
    },
    {
      "cell_type": "code",
      "source": [
        "monthA = int(input())\n",
        "if(3 <= monthA <= 5):\n",
        "  print('{} is spring'.format(monthA))\n",
        "elif(6 <= monthA <= 8):\n",
        "  print('{} is summer'.format(monthA))\n",
        "elif(9 <= monthA <= 11):\n",
        "  print('{} is autumn'.format(monthA))\n",
        "elif(monthA == 12 or monthA == 1 or monthA == 2):\n",
        "  print('{} is winter'.format(monthA))\n",
        "else:\n",
        "  print('input error')"
      ],
      "metadata": {
        "colab": {
          "base_uri": "https://localhost:8080/"
        },
        "id": "6wHxa6aKOF5T",
        "outputId": "cdd1299a-2755-4b2c-b157-a89c584c0b59"
      },
      "execution_count": 2,
      "outputs": [
        {
          "output_type": "stream",
          "name": "stdout",
          "text": [
            "1\n",
            "1 is winter\n"
          ]
        }
      ]
    },
    {
      "cell_type": "code",
      "source": [
        "scoreA = int(input())\n",
        "if(90 <= scoreA <= 100):\n",
        "  print('{} is A'.format(scoreA))\n",
        "elif(80 <= scoreA <= 89):\n",
        "  print('{} is B'.format(scoreA))\n",
        "elif(70 <= scoreA <= 79):\n",
        "  print('{} is C'.format(scoreA))\n",
        "elif(60 <= scoreA <= 69):\n",
        "  print('{} is D'.format(scoreA))\n",
        "elif(0 <= scoreA <= 59):\n",
        "  print('{} is E'.format(scoreA))\n",
        "else:\n",
        "  print('input error')"
      ],
      "metadata": {
        "colab": {
          "base_uri": "https://localhost:8080/"
        },
        "id": "5xPV4nUrR_UH",
        "outputId": "7211ff71-8d91-4f6d-bab0-b11bc6d7869d"
      },
      "execution_count": 3,
      "outputs": [
        {
          "output_type": "stream",
          "name": "stdout",
          "text": [
            "80\n",
            "80 is B\n"
          ]
        }
      ]
    }
  ]
}