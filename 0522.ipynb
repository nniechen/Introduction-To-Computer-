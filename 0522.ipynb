{
  "cells": [
    {
      "cell_type": "markdown",
      "metadata": {
        "id": "view-in-github",
        "colab_type": "text"
      },
      "source": [
        "<a href=\"https://colab.research.google.com/github/nniechen/Introduction-To-Computer-/blob/main/0522.ipynb\" target=\"_parent\"><img src=\"https://colab.research.google.com/assets/colab-badge.svg\" alt=\"Open In Colab\"/></a>"
      ]
    },
    {
      "cell_type": "code",
      "execution_count": null,
      "metadata": {
        "colab": {
          "background_save": true,
          "base_uri": "https://localhost:8080/"
        },
        "id": "ZCVQycUiY_Ho",
        "outputId": "594c346b-d354-4247-adb0-a498aa38082f"
      },
      "outputs": [
        {
          "name": "stdout",
          "output_type": "stream",
          "text": [
            "Happy\n",
            "Happy\n",
            "Happy\n",
            "Happy\n",
            "Happy\n",
            "Happy\n",
            "Happy\n",
            "Happy\n",
            "Happy\n"
          ]
        }
      ],
      "source": [
        "for i in  range(9) :\n",
        "      print(\"Happy\")"
      ]
    },
    {
      "cell_type": "code",
      "execution_count": null,
      "metadata": {
        "colab": {
          "base_uri": "https://localhost:8080/"
        },
        "id": "_H1PR3S5adxy",
        "outputId": "73cce2eb-5564-49ec-8aa9-d213651fcb7b"
      },
      "outputs": [
        {
          "name": "stdout",
          "output_type": "stream",
          "text": [
            "1,3,5,7,9,"
          ]
        }
      ],
      "source": [
        "for i in range(1,10,2):\n",
        "  print(i, end=\",\")"
      ]
    },
    {
      "cell_type": "code",
      "source": [
        "n = int(input())\n",
        "total = 0\n",
        "for i in range(1, n+1)\n",
        "    total += i\n",
        "\n",
        "print(\"1 到 {} 的總和為 {}\".format(n, total))"
      ],
      "metadata": {
        "id": "VTakvcUSlCKO"
      },
      "execution_count": null,
      "outputs": []
    },
    {
      "cell_type": "code",
      "execution_count": null,
      "metadata": {
        "id": "67gMiT7-ad0T"
      },
      "outputs": [],
      "source": [
        "n = int(input())\n",
        "\n",
        "total = 0\n",
        "for i in range(1, n+1):\n",
        "    total += i\n",
        "\n",
        "print(\"從1到{}的所有奇數總和為 {}\".format(n, total))"
      ]
    },
    {
      "cell_type": "code",
      "execution_count": null,
      "metadata": {
        "id": "yZh-8whTdcLN"
      },
      "outputs": [],
      "source": []
    }
  ],
  "metadata": {
    "colab": {
      "provenance": [],
      "authorship_tag": "ABX9TyNRCa5BavBDoialbm5l6jMy",
      "include_colab_link": true
    },
    "kernelspec": {
      "display_name": "Python 3",
      "name": "python3"
    },
    "language_info": {
      "name": "python"
    }
  },
  "nbformat": 4,
  "nbformat_minor": 0
}