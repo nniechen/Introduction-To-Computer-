{
  "nbformat": 4,
  "nbformat_minor": 0,
  "metadata": {
    "colab": {
      "provenance": [],
      "authorship_tag": "ABX9TyO8IbVSJqBVrhSWBqWdec+W",
      "include_colab_link": true
    },
    "kernelspec": {
      "name": "python3",
      "display_name": "Python 3"
    },
    "language_info": {
      "name": "python"
    }
  },
  "cells": [
    {
      "cell_type": "markdown",
      "metadata": {
        "id": "view-in-github",
        "colab_type": "text"
      },
      "source": [
        "<a href=\"https://colab.research.google.com/github/nniechen/Introduction-To-Computer-/blob/main/0508.ipynb\" target=\"_parent\"><img src=\"https://colab.research.google.com/assets/colab-badge.svg\" alt=\"Open In Colab\"/></a>"
      ]
    },
    {
      "cell_type": "code",
      "execution_count": 1,
      "metadata": {
        "colab": {
          "base_uri": "https://localhost:8080/"
        },
        "id": "qM8se6UUFOkM",
        "outputId": "b68b6aa7-8732-43e8-920b-329019a169c9"
      },
      "outputs": [
        {
          "output_type": "stream",
          "name": "stdout",
          "text": [
            "你年齡太小\n",
            "須年滿20歲才可以購買菸酒\n"
          ]
        }
      ],
      "source": [
        "age=18\n",
        "if(age<20):\n",
        "  print(\"你年齡太小\")\n",
        "  print(\"須年滿20歲才可以購買菸酒\")"
      ]
    },
    {
      "cell_type": "code",
      "source": [
        "age=input(\"請輸入年齡\")\n",
        "if(int(age)<20):\n",
        " print(\"你年齡太小\")\n",
        " print(\"須年滿20歲才能買菸酒\")\n",
        "else:\n",
        "  print(\"歡迎購買菸酒\")"
      ],
      "metadata": {
        "colab": {
          "base_uri": "https://localhost:8080/"
        },
        "id": "AdffxG3VFSZT",
        "outputId": "815810ca-b8c3-44bf-8691-511eeeebf2d8"
      },
      "execution_count": 2,
      "outputs": [
        {
          "output_type": "stream",
          "name": "stdout",
          "text": [
            "請輸入年齡18\n",
            "你年齡太小\n",
            "須年滿20歲才能買菸酒\n"
          ]
        }
      ]
    },
    {
      "cell_type": "code",
      "source": [
        "print(\"計算最終成績\")\n",
        "score=input(\"請輸入分數\")\n",
        "sc=int(score)\n",
        "if(sc>=90):\n",
        " print(\"A\")\n",
        "elif(sc>=80):\n",
        "  print(\"B\")\n",
        "elif(sc>=70):\n",
        "  print(\"C\")\n",
        "elif(sc>=60):\n",
        "  print(\"D\")\n",
        "else:\n",
        "  print(\"F\")"
      ],
      "metadata": {
        "colab": {
          "base_uri": "https://localhost:8080/"
        },
        "id": "STvNk_hdF3tT",
        "outputId": "5b6cdf00-2a3d-4354-f1f8-9856c0e72ca6"
      },
      "execution_count": 3,
      "outputs": [
        {
          "output_type": "stream",
          "name": "stdout",
          "text": [
            "計算最終成績\n",
            "請輸入分數91\n",
            "A\n"
          ]
        }
      ]
    },
    {
      "cell_type": "code",
      "source": [
        "print(\"判斷輸入年份是否閏年\")\n",
        "year = int(input(\"請輸入年份:\"))\n",
        "rem4 = year % 4\n",
        "rem100 = year % 100\n",
        "rem400 = year % 400\n",
        "if rem4==0:\n",
        "  if rem100!=0 or rem400 ==0:\n",
        "   print(\"是閏年:\",year)\n",
        "  else:\n",
        "   print(\"是平年:\",year)\n",
        "else:\n",
        "  print(\"是平年:\",year)\n"
      ],
      "metadata": {
        "colab": {
          "base_uri": "https://localhost:8080/"
        },
        "id": "CmLC-29xFSg6",
        "outputId": "f9e70ba8-a107-4c92-ff43-fdad43ffc7d7"
      },
      "execution_count": 34,
      "outputs": [
        {
          "output_type": "stream",
          "name": "stdout",
          "text": [
            "判斷輸入年份是否閏年\n",
            "請輸入年份:2020\n",
            "是閏年: 2020\n"
          ]
        }
      ]
    }
  ]
}