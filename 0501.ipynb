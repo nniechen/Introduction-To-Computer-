{
  "nbformat": 4,
  "nbformat_minor": 0,
  "metadata": {
    "colab": {
      "provenance": [],
      "authorship_tag": "ABX9TyMkPIHjsi2/OtNJs3T+aOLH",
      "include_colab_link": true
    },
    "kernelspec": {
      "name": "python3",
      "display_name": "Python 3"
    },
    "language_info": {
      "name": "python"
    }
  },
  "cells": [
    {
      "cell_type": "markdown",
      "metadata": {
        "id": "view-in-github",
        "colab_type": "text"
      },
      "source": [
        "<a href=\"https://colab.research.google.com/github/nniechen/Introduction-To-Computer-/blob/main/0501.ipynb\" target=\"_parent\"><img src=\"https://colab.research.google.com/assets/colab-badge.svg\" alt=\"Open In Colab\"/></a>"
      ]
    },
    {
      "cell_type": "code",
      "execution_count": 1,
      "metadata": {
        "colab": {
          "base_uri": "https://localhost:8080/"
        },
        "id": "GenDDj3zjkYT",
        "outputId": "e00ba2cf-770c-4737-85f7-38e34d703c1c"
      },
      "outputs": [
        {
          "output_type": "stream",
          "name": "stdout",
          "text": [
            "0501\n"
          ]
        }
      ],
      "source": [
        "print(\"0501\")"
      ]
    },
    {
      "cell_type": "code",
      "source": [
        "1.1"
      ],
      "metadata": {
        "colab": {
          "base_uri": "https://localhost:8080/"
        },
        "id": "k5iIbZkjkpw-",
        "outputId": "bb2b9c03-2dec-41cf-e7e5-b25b5cc46d42"
      },
      "execution_count": 2,
      "outputs": [
        {
          "output_type": "execute_result",
          "data": {
            "text/plain": [
              "1.1"
            ]
          },
          "metadata": {},
          "execution_count": 2
        }
      ]
    },
    {
      "cell_type": "code",
      "source": [
        "score=int(input(\"請輸入分數\"))\n",
        "if(score>=60):\n",
        "  print(\"及格\")"
      ],
      "metadata": {
        "colab": {
          "base_uri": "https://localhost:8080/"
        },
        "id": "crUqIbMSkqCD",
        "outputId": "7f31a58e-2d44-4a8a-a477-7c4145d7a1ac"
      },
      "execution_count": 4,
      "outputs": [
        {
          "output_type": "stream",
          "name": "stdout",
          "text": [
            "請輸入分數70\n",
            "及格\n"
          ]
        }
      ]
    },
    {
      "cell_type": "code",
      "source": [
        "數學=60\n",
        "英文=70\n",
        "if 數學>英文:\n",
        "  print(\"數學比較高\")\n",
        "else:\n",
        "  print(\"英文比較高\")"
      ],
      "metadata": {
        "colab": {
          "base_uri": "https://localhost:8080/"
        },
        "id": "Sx4GbIvgkqJ4",
        "outputId": "f6642c70-5525-4d8c-deb6-475ab9c4f018"
      },
      "execution_count": 30,
      "outputs": [
        {
          "output_type": "stream",
          "name": "stdout",
          "text": [
            "英文比較高\n"
          ]
        }
      ]
    },
    {
      "cell_type": "code",
      "source": [
        "password=input(\"請輸入密碼1234：\")\n",
        "if password==（\"請輸入密碼1234：\"）\n",
        "print(\"歡迎光臨！\")\n"
      ],
      "metadata": {
        "colab": {
          "base_uri": "https://localhost:8080/",
          "height": 109
        },
        "id": "_T5DUVGPkqPE",
        "outputId": "c2e3a169-b928-49db-8ea4-1cb992289f23"
      },
      "execution_count": 44,
      "outputs": [
        {
          "output_type": "error",
          "ename": "SyntaxError",
          "evalue": "invalid character '（' (U+FF08) (<ipython-input-44-8e3aeea38826>, line 2)",
          "traceback": [
            "\u001b[0;36m  File \u001b[0;32m\"<ipython-input-44-8e3aeea38826>\"\u001b[0;36m, line \u001b[0;32m2\u001b[0m\n\u001b[0;31m    if password==（\"請輸入密碼1234：\"）\u001b[0m\n\u001b[0m                 ^\u001b[0m\n\u001b[0;31mSyntaxError\u001b[0m\u001b[0;31m:\u001b[0m invalid character '（' (U+FF08)\n"
          ]
        }
      ]
    },
    {
      "cell_type": "code",
      "source": [
        "if(\"rain\"==\"Y\" or \"rain\"==\"y\"):\n",
        "  print('不用帶傘')"
      ],
      "metadata": {
        "id": "nOlZSumcnL1j"
      },
      "execution_count": 62,
      "outputs": []
    },
    {
      "cell_type": "code",
      "source": [],
      "metadata": {
        "id": "TmBOVHoakqS1"
      },
      "execution_count": null,
      "outputs": []
    }
  ]
}